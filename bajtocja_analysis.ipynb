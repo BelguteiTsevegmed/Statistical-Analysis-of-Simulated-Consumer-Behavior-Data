{
 "cells": [
  {
   "cell_type": "markdown",
   "source": [
    "# Zadanie 1"
   ],
   "metadata": {
    "collapsed": false
   },
   "id": "e8732b71228f5b0b"
  },
  {
   "cell_type": "code",
   "execution_count": 1,
   "outputs": [],
   "source": [
    "import pandas as pd"
   ],
   "metadata": {
    "collapsed": false,
    "ExecuteTime": {
     "end_time": "2024-05-02T15:41:28.349527Z",
     "start_time": "2024-05-02T15:41:26.398472Z"
    }
   },
   "id": "3df2994dbb63d5"
  },
  {
   "cell_type": "markdown",
   "source": [
    "Wczytuję dane"
   ],
   "metadata": {
    "collapsed": false
   },
   "id": "8e7583b767160057"
  },
  {
   "cell_type": "code",
   "execution_count": 2,
   "outputs": [
    {
     "data": {
      "text/plain": "      id   waga  wzrost  plec  dzieci  wiek   dochod  oszczednosci  jednoos  \\\n0     52  78.93  176.20     2       5    59   979.01        673.17        0   \n1    101  78.66  165.73     1       3    52  1043.36        543.89        0   \n2    146  74.29  171.33     1       2    57  1227.69        773.20        0   \n3    281  79.11  169.24     1       1    59  2356.74       1914.74        1   \n4    167  79.23  177.78     2       1    48  1264.95        536.29        1   \n..   ...    ...     ...   ...     ...   ...      ...           ...      ...   \n305  136  77.59  170.41     2       3    62  1124.12        415.07        0   \n306   13  72.39  163.27     1       1    61   701.51         44.23        0   \n307  309  81.61  173.70     1       2    63  9557.08       3844.10        1   \n308  173  77.24  175.21     2       1    60  1182.43        710.35        0   \n309  171  75.77  161.41     1       4    61  1258.84        663.98        0   \n\n     miejsce  wydatki_zyw  \n0          3       194.96  \n1          2       259.20  \n2          1       244.41  \n3          2       239.77  \n4          3       291.05  \n..       ...          ...  \n305        3       289.83  \n306        2       282.16  \n307        3    -10668.84  \n308        3       246.36  \n309        3       276.53  \n\n[310 rows x 11 columns]",
      "text/html": "<div>\n<style scoped>\n    .dataframe tbody tr th:only-of-type {\n        vertical-align: middle;\n    }\n\n    .dataframe tbody tr th {\n        vertical-align: top;\n    }\n\n    .dataframe thead th {\n        text-align: right;\n    }\n</style>\n<table border=\"1\" class=\"dataframe\">\n  <thead>\n    <tr style=\"text-align: right;\">\n      <th></th>\n      <th>id</th>\n      <th>waga</th>\n      <th>wzrost</th>\n      <th>plec</th>\n      <th>dzieci</th>\n      <th>wiek</th>\n      <th>dochod</th>\n      <th>oszczednosci</th>\n      <th>jednoos</th>\n      <th>miejsce</th>\n      <th>wydatki_zyw</th>\n    </tr>\n  </thead>\n  <tbody>\n    <tr>\n      <th>0</th>\n      <td>52</td>\n      <td>78.93</td>\n      <td>176.20</td>\n      <td>2</td>\n      <td>5</td>\n      <td>59</td>\n      <td>979.01</td>\n      <td>673.17</td>\n      <td>0</td>\n      <td>3</td>\n      <td>194.96</td>\n    </tr>\n    <tr>\n      <th>1</th>\n      <td>101</td>\n      <td>78.66</td>\n      <td>165.73</td>\n      <td>1</td>\n      <td>3</td>\n      <td>52</td>\n      <td>1043.36</td>\n      <td>543.89</td>\n      <td>0</td>\n      <td>2</td>\n      <td>259.20</td>\n    </tr>\n    <tr>\n      <th>2</th>\n      <td>146</td>\n      <td>74.29</td>\n      <td>171.33</td>\n      <td>1</td>\n      <td>2</td>\n      <td>57</td>\n      <td>1227.69</td>\n      <td>773.20</td>\n      <td>0</td>\n      <td>1</td>\n      <td>244.41</td>\n    </tr>\n    <tr>\n      <th>3</th>\n      <td>281</td>\n      <td>79.11</td>\n      <td>169.24</td>\n      <td>1</td>\n      <td>1</td>\n      <td>59</td>\n      <td>2356.74</td>\n      <td>1914.74</td>\n      <td>1</td>\n      <td>2</td>\n      <td>239.77</td>\n    </tr>\n    <tr>\n      <th>4</th>\n      <td>167</td>\n      <td>79.23</td>\n      <td>177.78</td>\n      <td>2</td>\n      <td>1</td>\n      <td>48</td>\n      <td>1264.95</td>\n      <td>536.29</td>\n      <td>1</td>\n      <td>3</td>\n      <td>291.05</td>\n    </tr>\n    <tr>\n      <th>...</th>\n      <td>...</td>\n      <td>...</td>\n      <td>...</td>\n      <td>...</td>\n      <td>...</td>\n      <td>...</td>\n      <td>...</td>\n      <td>...</td>\n      <td>...</td>\n      <td>...</td>\n      <td>...</td>\n    </tr>\n    <tr>\n      <th>305</th>\n      <td>136</td>\n      <td>77.59</td>\n      <td>170.41</td>\n      <td>2</td>\n      <td>3</td>\n      <td>62</td>\n      <td>1124.12</td>\n      <td>415.07</td>\n      <td>0</td>\n      <td>3</td>\n      <td>289.83</td>\n    </tr>\n    <tr>\n      <th>306</th>\n      <td>13</td>\n      <td>72.39</td>\n      <td>163.27</td>\n      <td>1</td>\n      <td>1</td>\n      <td>61</td>\n      <td>701.51</td>\n      <td>44.23</td>\n      <td>0</td>\n      <td>2</td>\n      <td>282.16</td>\n    </tr>\n    <tr>\n      <th>307</th>\n      <td>309</td>\n      <td>81.61</td>\n      <td>173.70</td>\n      <td>1</td>\n      <td>2</td>\n      <td>63</td>\n      <td>9557.08</td>\n      <td>3844.10</td>\n      <td>1</td>\n      <td>3</td>\n      <td>-10668.84</td>\n    </tr>\n    <tr>\n      <th>308</th>\n      <td>173</td>\n      <td>77.24</td>\n      <td>175.21</td>\n      <td>2</td>\n      <td>1</td>\n      <td>60</td>\n      <td>1182.43</td>\n      <td>710.35</td>\n      <td>0</td>\n      <td>3</td>\n      <td>246.36</td>\n    </tr>\n    <tr>\n      <th>309</th>\n      <td>171</td>\n      <td>75.77</td>\n      <td>161.41</td>\n      <td>1</td>\n      <td>4</td>\n      <td>61</td>\n      <td>1258.84</td>\n      <td>663.98</td>\n      <td>0</td>\n      <td>3</td>\n      <td>276.53</td>\n    </tr>\n  </tbody>\n</table>\n<p>310 rows × 11 columns</p>\n</div>"
     },
     "execution_count": 2,
     "metadata": {},
     "output_type": "execute_result"
    }
   ],
   "source": [
    "df = pd.read_csv(\"zbior_danych.csv\", sep=';')\n",
    "df"
   ],
   "metadata": {
    "collapsed": false,
    "ExecuteTime": {
     "end_time": "2024-05-02T15:41:28.453500Z",
     "start_time": "2024-05-02T15:41:28.352437Z"
    }
   },
   "id": "edd66d23a89b77c"
  },
  {
   "cell_type": "markdown",
   "source": [
    "Zobaczmy jak wyglądają nasze dane"
   ],
   "metadata": {
    "collapsed": false
   },
   "id": "e4c4c904b719da3b"
  },
  {
   "cell_type": "code",
   "execution_count": 9,
   "outputs": [
    {
     "name": "stdout",
     "output_type": "stream",
     "text": [
      "Dane zawierają 11 kolumn i 310 wierszy.\n",
      "Braki w danych:\n",
      "id              0\n",
      "waga            0\n",
      "wzrost          0\n",
      "plec            0\n",
      "dzieci          0\n",
      "wiek            0\n",
      "dochod          0\n",
      "oszczednosci    0\n",
      "jednoos         0\n",
      "miejsce         0\n",
      "wydatki_zyw     0\n",
      "dtype: int64\n"
     ]
    }
   ],
   "source": [
    "df.describe()\n"
   ],
   "metadata": {
    "collapsed": false,
    "ExecuteTime": {
     "end_time": "2024-05-02T14:20:01.017199Z",
     "start_time": "2024-05-02T14:20:00.943292Z"
    }
   },
   "id": "183459eb6717920"
  },
  {
   "cell_type": "code",
   "execution_count": 3,
   "outputs": [
    {
     "name": "stdout",
     "output_type": "stream",
     "text": [
      "Dane zawierają 11 kolumn i 310 wierszy.\n",
      "Braki w danych:\n",
      "id              0\n",
      "waga            0\n",
      "wzrost          0\n",
      "plec            0\n",
      "dzieci          0\n",
      "wiek            0\n",
      "dochod          0\n",
      "oszczednosci    0\n",
      "jednoos         0\n",
      "miejsce         0\n",
      "wydatki_zyw     0\n",
      "dtype: int64\n"
     ]
    }
   ],
   "source": [],
   "metadata": {
    "collapsed": false,
    "ExecuteTime": {
     "end_time": "2024-05-02T15:41:28.456512Z",
     "start_time": "2024-05-02T15:41:28.410710Z"
    }
   },
   "id": "5e6a8105b4e3df8d"
  }
 ],
 "metadata": {
  "kernelspec": {
   "display_name": "Python 3",
   "language": "python",
   "name": "python3"
  },
  "language_info": {
   "codemirror_mode": {
    "name": "ipython",
    "version": 2
   },
   "file_extension": ".py",
   "mimetype": "text/x-python",
   "name": "python",
   "nbconvert_exporter": "python",
   "pygments_lexer": "ipython2",
   "version": "2.7.6"
  }
 },
 "nbformat": 4,
 "nbformat_minor": 5
}
